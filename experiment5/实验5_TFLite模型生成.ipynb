{
 "cells": [
  {
   "cell_type": "markdown",
   "id": "932146ba",
   "metadata": {},
   "source": [
    "# 使用TensorFlow Lite Model Maker生成图像分类器模型"
   ]
  },
  {
   "cell_type": "markdown",
   "id": "f00ec851",
   "metadata": {},
   "source": [
    "## 预备工作\n",
    "首先安装程序运行必备的一些库。"
   ]
  },
  {
   "cell_type": "code",
   "execution_count": 1,
   "id": "7b1eb0f9",
   "metadata": {
    "scrolled": false
   },
   "outputs": [
    {
     "name": "stdout",
     "output_type": "stream",
     "text": [
      "Looking in indexes: https://pypi.tuna.tsinghua.edu.cn/simple/\n",
      "Requirement already satisfied: tflite-model-maker in c:\\users\\16588\\appdata\\roaming\\python\\python39\\site-packages (0.3.4)\n",
      "Requirement already satisfied: tf-models-official==2.3.0 in c:\\users\\16588\\appdata\\roaming\\python\\python39\\site-packages (from tflite-model-maker) (2.3.0)\n",
      "Requirement already satisfied: pillow>=7.0.0 in d:\\anaconda3\\lib\\site-packages (from tflite-model-maker) (9.0.1)\n",
      "Requirement already satisfied: tensorflow-datasets>=2.1.0 in c:\\users\\16588\\appdata\\roaming\\python\\python39\\site-packages (from tflite-model-maker) (4.5.2)\n",
      "Requirement already satisfied: tflite-support>=0.3.1 in c:\\users\\16588\\appdata\\roaming\\python\\python39\\site-packages (from tflite-model-maker) (0.4.0)\n",
      "Requirement already satisfied: numpy>=1.17.3 in d:\\anaconda3\\lib\\site-packages (from tflite-model-maker) (1.21.5)\n",
      "Requirement already satisfied: tensorflowjs>=2.4.0 in c:\\users\\16588\\appdata\\roaming\\python\\python39\\site-packages (from tflite-model-maker) (3.18.0)\n",
      "Requirement already satisfied: Cython>=0.29.13 in d:\\anaconda3\\lib\\site-packages (from tflite-model-maker) (0.29.28)\n",
      "Requirement already satisfied: PyYAML>=5.1 in d:\\anaconda3\\lib\\site-packages (from tflite-model-maker) (6.0)\n",
      "Requirement already satisfied: matplotlib<3.5.0,>=3.0.3 in c:\\users\\16588\\appdata\\roaming\\python\\python39\\site-packages (from tflite-model-maker) (3.4.3)\n",
      "Requirement already satisfied: tensorflow-addons>=0.11.2 in c:\\users\\16588\\appdata\\roaming\\python\\python39\\site-packages (from tflite-model-maker) (0.17.0)\n",
      "Requirement already satisfied: lxml>=4.6.1 in d:\\anaconda3\\lib\\site-packages (from tflite-model-maker) (4.8.0)\n",
      "Requirement already satisfied: tensorflow-model-optimization>=0.5 in c:\\users\\16588\\appdata\\roaming\\python\\python39\\site-packages (from tflite-model-maker) (0.7.2)\n",
      "Requirement already satisfied: tensorflow>=2.6.0 in c:\\users\\16588\\appdata\\roaming\\python\\python39\\site-packages (from tflite-model-maker) (2.9.1)\n",
      "Requirement already satisfied: absl-py>=0.10.0 in c:\\users\\16588\\appdata\\roaming\\python\\python39\\site-packages (from tflite-model-maker) (1.0.0)\n",
      "Requirement already satisfied: tensorflow-hub<0.13,>=0.7.0 in c:\\users\\16588\\appdata\\roaming\\python\\python39\\site-packages (from tflite-model-maker) (0.12.0)\n",
      "Requirement already satisfied: flatbuffers==1.12 in c:\\users\\16588\\appdata\\roaming\\python\\python39\\site-packages (from tflite-model-maker) (1.12)\n",
      "Requirement already satisfied: fire>=0.3.1 in c:\\users\\16588\\appdata\\roaming\\python\\python39\\site-packages (from tflite-model-maker) (0.4.0)\n",
      "Requirement already satisfied: librosa==0.8.1 in c:\\users\\16588\\appdata\\roaming\\python\\python39\\site-packages (from tflite-model-maker) (0.8.1)\n",
      "Requirement already satisfied: sentencepiece>=0.1.91 in c:\\users\\16588\\appdata\\roaming\\python\\python39\\site-packages (from tflite-model-maker) (0.1.96)\n",
      "Requirement already satisfied: urllib3!=1.25.0,!=1.25.1,<1.26,>=1.21.1 in c:\\users\\16588\\appdata\\roaming\\python\\python39\\site-packages (from tflite-model-maker) (1.25.11)\n",
      "Requirement already satisfied: neural-structured-learning>=1.3.1 in c:\\users\\16588\\appdata\\roaming\\python\\python39\\site-packages (from tflite-model-maker) (1.3.1)\n",
      "Requirement already satisfied: numba==0.53 in c:\\users\\16588\\appdata\\roaming\\python\\python39\\site-packages (from tflite-model-maker) (0.53.0)\n",
      "Requirement already satisfied: six>=1.12.0 in d:\\anaconda3\\lib\\site-packages (from tflite-model-maker) (1.16.0)\n",
      "Requirement already satisfied: joblib>=0.14 in d:\\anaconda3\\lib\\site-packages (from librosa==0.8.1->tflite-model-maker) (1.1.0)\n",
      "Requirement already satisfied: pooch>=1.0 in c:\\users\\16588\\appdata\\roaming\\python\\python39\\site-packages (from librosa==0.8.1->tflite-model-maker) (1.6.0)\n",
      "Requirement already satisfied: decorator>=3.0.0 in d:\\anaconda3\\lib\\site-packages (from librosa==0.8.1->tflite-model-maker) (5.1.1)\n",
      "Requirement already satisfied: packaging>=20.0 in c:\\users\\16588\\appdata\\roaming\\python\\python39\\site-packages (from librosa==0.8.1->tflite-model-maker) (20.9)\n",
      "Requirement already satisfied: scipy>=1.0.0 in d:\\anaconda3\\lib\\site-packages (from librosa==0.8.1->tflite-model-maker) (1.7.3)\n",
      "Requirement already satisfied: resampy>=0.2.2 in c:\\users\\16588\\appdata\\roaming\\python\\python39\\site-packages (from librosa==0.8.1->tflite-model-maker) (0.2.2)\n",
      "Requirement already satisfied: soundfile>=0.10.2 in c:\\users\\16588\\appdata\\roaming\\python\\python39\\site-packages (from librosa==0.8.1->tflite-model-maker) (0.10.3.post1)\n",
      "Requirement already satisfied: audioread>=2.0.0 in c:\\users\\16588\\appdata\\roaming\\python\\python39\\site-packages (from librosa==0.8.1->tflite-model-maker) (2.1.9)\n",
      "Requirement already satisfied: scikit-learn!=0.19.0,>=0.14.0 in d:\\anaconda3\\lib\\site-packages (from librosa==0.8.1->tflite-model-maker) (1.0.2)\n",
      "Requirement already satisfied: setuptools in d:\\anaconda3\\lib\\site-packages (from numba==0.53->tflite-model-maker) (61.2.0)\n",
      "Requirement already satisfied: llvmlite<0.37,>=0.36.0rc1 in c:\\users\\16588\\appdata\\roaming\\python\\python39\\site-packages (from numba==0.53->tflite-model-maker) (0.36.0)\n",
      "Requirement already satisfied: dataclasses in c:\\users\\16588\\appdata\\roaming\\python\\python39\\site-packages (from tf-models-official==2.3.0->tflite-model-maker) (0.6)\n",
      "Requirement already satisfied: py-cpuinfo>=3.3.0 in c:\\users\\16588\\appdata\\roaming\\python\\python39\\site-packages (from tf-models-official==2.3.0->tflite-model-maker) (8.0.0)\n",
      "Requirement already satisfied: gin-config in c:\\users\\16588\\appdata\\roaming\\python\\python39\\site-packages (from tf-models-official==2.3.0->tflite-model-maker) (0.5.0)\n",
      "Requirement already satisfied: pandas>=0.22.0 in d:\\anaconda3\\lib\\site-packages (from tf-models-official==2.3.0->tflite-model-maker) (1.4.2)\n",
      "Requirement already satisfied: google-api-python-client>=1.6.7 in c:\\users\\16588\\appdata\\roaming\\python\\python39\\site-packages (from tf-models-official==2.3.0->tflite-model-maker) (2.49.0)\n",
      "Requirement already satisfied: opencv-python-headless in c:\\users\\16588\\appdata\\roaming\\python\\python39\\site-packages (from tf-models-official==2.3.0->tflite-model-maker) (4.5.5.64)\n",
      "Requirement already satisfied: tf-slim>=1.1.0 in c:\\users\\16588\\appdata\\roaming\\python\\python39\\site-packages (from tf-models-official==2.3.0->tflite-model-maker) (1.1.0)\n",
      "Requirement already satisfied: kaggle>=1.3.9 in c:\\users\\16588\\appdata\\roaming\\python\\python39\\site-packages (from tf-models-official==2.3.0->tflite-model-maker) (1.5.12)\n",
      "Requirement already satisfied: psutil>=5.4.3 in d:\\anaconda3\\lib\\site-packages (from tf-models-official==2.3.0->tflite-model-maker) (5.8.0)\n",
      "Requirement already satisfied: google-cloud-bigquery>=0.31.0 in c:\\users\\16588\\appdata\\roaming\\python\\python39\\site-packages (from tf-models-official==2.3.0->tflite-model-maker) (3.1.0)\n",
      "Requirement already satisfied: termcolor in c:\\users\\16588\\appdata\\roaming\\python\\python39\\site-packages (from fire>=0.3.1->tflite-model-maker) (1.1.0)\n",
      "Requirement already satisfied: kiwisolver>=1.0.1 in d:\\anaconda3\\lib\\site-packages (from matplotlib<3.5.0,>=3.0.3->tflite-model-maker) (1.3.2)\n",
      "Requirement already satisfied: python-dateutil>=2.7 in d:\\anaconda3\\lib\\site-packages (from matplotlib<3.5.0,>=3.0.3->tflite-model-maker) (2.8.2)\n",
      "Requirement already satisfied: pyparsing>=2.2.1 in d:\\anaconda3\\lib\\site-packages (from matplotlib<3.5.0,>=3.0.3->tflite-model-maker) (3.0.4)\n",
      "Requirement already satisfied: cycler>=0.10 in d:\\anaconda3\\lib\\site-packages (from matplotlib<3.5.0,>=3.0.3->tflite-model-maker) (0.11.0)\n",
      "Requirement already satisfied: attrs in d:\\anaconda3\\lib\\site-packages (from neural-structured-learning>=1.3.1->tflite-model-maker) (21.4.0)\n",
      "Requirement already satisfied: wrapt>=1.11.0 in d:\\anaconda3\\lib\\site-packages (from tensorflow>=2.6.0->tflite-model-maker) (1.12.1)\n",
      "Requirement already satisfied: opt-einsum>=2.3.2 in c:\\users\\16588\\appdata\\roaming\\python\\python39\\site-packages (from tensorflow>=2.6.0->tflite-model-maker) (3.3.0)\n",
      "Requirement already satisfied: astunparse>=1.6.0 in c:\\users\\16588\\appdata\\roaming\\python\\python39\\site-packages (from tensorflow>=2.6.0->tflite-model-maker) (1.6.3)\n",
      "Requirement already satisfied: keras-preprocessing>=1.1.1 in c:\\users\\16588\\appdata\\roaming\\python\\python39\\site-packages (from tensorflow>=2.6.0->tflite-model-maker) (1.1.2)\n",
      "Requirement already satisfied: typing-extensions>=3.6.6 in d:\\anaconda3\\lib\\site-packages (from tensorflow>=2.6.0->tflite-model-maker) (4.1.1)\n",
      "Requirement already satisfied: gast<=0.4.0,>=0.2.1 in c:\\users\\16588\\appdata\\roaming\\python\\python39\\site-packages (from tensorflow>=2.6.0->tflite-model-maker) (0.4.0)\n",
      "Requirement already satisfied: tensorboard<2.10,>=2.9 in c:\\users\\16588\\appdata\\roaming\\python\\python39\\site-packages (from tensorflow>=2.6.0->tflite-model-maker) (2.9.0)\n",
      "Requirement already satisfied: grpcio<2.0,>=1.24.3 in c:\\users\\16588\\appdata\\roaming\\python\\python39\\site-packages (from tensorflow>=2.6.0->tflite-model-maker) (1.46.3)\n",
      "Requirement already satisfied: google-pasta>=0.1.1 in c:\\users\\16588\\appdata\\roaming\\python\\python39\\site-packages (from tensorflow>=2.6.0->tflite-model-maker) (0.2.0)\n",
      "Requirement already satisfied: h5py>=2.9.0 in d:\\anaconda3\\lib\\site-packages (from tensorflow>=2.6.0->tflite-model-maker) (3.6.0)\n",
      "Requirement already satisfied: keras<2.10.0,>=2.9.0rc0 in c:\\users\\16588\\appdata\\roaming\\python\\python39\\site-packages (from tensorflow>=2.6.0->tflite-model-maker) (2.9.0)\n",
      "Requirement already satisfied: tensorflow-estimator<2.10.0,>=2.9.0rc0 in c:\\users\\16588\\appdata\\roaming\\python\\python39\\site-packages (from tensorflow>=2.6.0->tflite-model-maker) (2.9.0)\n",
      "Requirement already satisfied: tensorflow-io-gcs-filesystem>=0.23.1 in c:\\users\\16588\\appdata\\roaming\\python\\python39\\site-packages (from tensorflow>=2.6.0->tflite-model-maker) (0.26.0)\n",
      "Requirement already satisfied: protobuf<3.20,>=3.9.2 in d:\\anaconda3\\lib\\site-packages (from tensorflow>=2.6.0->tflite-model-maker) (3.19.1)\n",
      "Requirement already satisfied: libclang>=13.0.0 in c:\\users\\16588\\appdata\\roaming\\python\\python39\\site-packages (from tensorflow>=2.6.0->tflite-model-maker) (14.0.1)\n",
      "Requirement already satisfied: typeguard>=2.7 in c:\\users\\16588\\appdata\\roaming\\python\\python39\\site-packages (from tensorflow-addons>=0.11.2->tflite-model-maker) (2.13.3)\n",
      "Requirement already satisfied: tqdm in d:\\anaconda3\\lib\\site-packages (from tensorflow-datasets>=2.1.0->tflite-model-maker) (4.64.0)\n",
      "Requirement already satisfied: tensorflow-metadata in c:\\users\\16588\\appdata\\roaming\\python\\python39\\site-packages (from tensorflow-datasets>=2.1.0->tflite-model-maker) (1.8.0)\n",
      "Requirement already satisfied: promise in c:\\users\\16588\\appdata\\roaming\\python\\python39\\site-packages (from tensorflow-datasets>=2.1.0->tflite-model-maker) (2.3)\n",
      "Requirement already satisfied: requests>=2.19.0 in d:\\anaconda3\\lib\\site-packages (from tensorflow-datasets>=2.1.0->tflite-model-maker) (2.27.1)\n",
      "Requirement already satisfied: dill in c:\\users\\16588\\appdata\\roaming\\python\\python39\\site-packages (from tensorflow-datasets>=2.1.0->tflite-model-maker) (0.3.5.1)\n",
      "Requirement already satisfied: dm-tree~=0.1.1 in c:\\users\\16588\\appdata\\roaming\\python\\python39\\site-packages (from tensorflow-model-optimization>=0.5->tflite-model-maker) (0.1.7)\n",
      "Requirement already satisfied: sounddevice>=0.4.4 in c:\\users\\16588\\appdata\\roaming\\python\\python39\\site-packages (from tflite-support>=0.3.1->tflite-model-maker) (0.4.4)\n",
      "Requirement already satisfied: pybind11>=2.6.0 in c:\\users\\16588\\appdata\\roaming\\python\\python39\\site-packages (from tflite-support>=0.3.1->tflite-model-maker) (2.9.2)\n",
      "Requirement already satisfied: wheel<1.0,>=0.23.0 in d:\\anaconda3\\lib\\site-packages (from astunparse>=1.6.0->tensorflow>=2.6.0->tflite-model-maker) (0.37.1)\n",
      "Requirement already satisfied: httplib2<1dev,>=0.15.0 in c:\\users\\16588\\appdata\\roaming\\python\\python39\\site-packages (from google-api-python-client>=1.6.7->tf-models-official==2.3.0->tflite-model-maker) (0.20.4)\n",
      "Requirement already satisfied: google-api-core!=2.0.*,!=2.1.*,!=2.2.*,!=2.3.0,<3.0.0dev,>=1.31.5 in c:\\users\\16588\\appdata\\roaming\\python\\python39\\site-packages (from google-api-python-client>=1.6.7->tf-models-official==2.3.0->tflite-model-maker) (2.8.1)\n",
      "Requirement already satisfied: google-auth<3.0.0dev,>=1.16.0 in d:\\anaconda3\\lib\\site-packages (from google-api-python-client>=1.6.7->tf-models-official==2.3.0->tflite-model-maker) (1.33.0)\n",
      "Requirement already satisfied: uritemplate<5,>=3.0.1 in c:\\users\\16588\\appdata\\roaming\\python\\python39\\site-packages (from google-api-python-client>=1.6.7->tf-models-official==2.3.0->tflite-model-maker) (4.1.1)\n",
      "Requirement already satisfied: google-auth-httplib2>=0.1.0 in c:\\users\\16588\\appdata\\roaming\\python\\python39\\site-packages (from google-api-python-client>=1.6.7->tf-models-official==2.3.0->tflite-model-maker) (0.1.0)\n",
      "Requirement already satisfied: pyarrow<9.0dev,>=3.0.0 in c:\\users\\16588\\appdata\\roaming\\python\\python39\\site-packages (from google-cloud-bigquery>=0.31.0->tf-models-official==2.3.0->tflite-model-maker) (8.0.0)\n",
      "Requirement already satisfied: google-resumable-media<3.0dev,>=0.6.0 in d:\\anaconda3\\lib\\site-packages (from google-cloud-bigquery>=0.31.0->tf-models-official==2.3.0->tflite-model-maker) (1.3.1)\n",
      "Requirement already satisfied: google-cloud-core<3.0.0dev,>=1.4.1 in c:\\users\\16588\\appdata\\roaming\\python\\python39\\site-packages (from google-cloud-bigquery>=0.31.0->tf-models-official==2.3.0->tflite-model-maker) (2.3.0)\n",
      "Requirement already satisfied: google-cloud-bigquery-storage<3.0.0dev,>=2.0.0 in c:\\users\\16588\\appdata\\roaming\\python\\python39\\site-packages (from google-cloud-bigquery>=0.31.0->tf-models-official==2.3.0->tflite-model-maker) (2.13.1)\n",
      "Requirement already satisfied: proto-plus>=1.15.0 in c:\\users\\16588\\appdata\\roaming\\python\\python39\\site-packages (from google-cloud-bigquery>=0.31.0->tf-models-official==2.3.0->tflite-model-maker) (1.20.5)\n",
      "Requirement already satisfied: certifi in d:\\anaconda3\\lib\\site-packages (from kaggle>=1.3.9->tf-models-official==2.3.0->tflite-model-maker) (2021.10.8)\n",
      "Requirement already satisfied: python-slugify in d:\\anaconda3\\lib\\site-packages (from kaggle>=1.3.9->tf-models-official==2.3.0->tflite-model-maker) (5.0.2)\n",
      "Requirement already satisfied: pytz>=2020.1 in d:\\anaconda3\\lib\\site-packages (from pandas>=0.22.0->tf-models-official==2.3.0->tflite-model-maker) (2021.3)\n",
      "Requirement already satisfied: appdirs>=1.3.0 in d:\\anaconda3\\lib\\site-packages (from pooch>=1.0->librosa==0.8.1->tflite-model-maker) (1.4.4)\n",
      "Requirement already satisfied: charset-normalizer~=2.0.0 in d:\\anaconda3\\lib\\site-packages (from requests>=2.19.0->tensorflow-datasets>=2.1.0->tflite-model-maker) (2.0.4)\n",
      "Requirement already satisfied: idna<4,>=2.5 in d:\\anaconda3\\lib\\site-packages (from requests>=2.19.0->tensorflow-datasets>=2.1.0->tflite-model-maker) (3.3)\n",
      "Requirement already satisfied: threadpoolctl>=2.0.0 in d:\\anaconda3\\lib\\site-packages (from scikit-learn!=0.19.0,>=0.14.0->librosa==0.8.1->tflite-model-maker) (2.2.0)\n",
      "Requirement already satisfied: CFFI>=1.0 in d:\\anaconda3\\lib\\site-packages (from sounddevice>=0.4.4->tflite-support>=0.3.1->tflite-model-maker) (1.15.0)\n",
      "Requirement already satisfied: werkzeug>=1.0.1 in d:\\anaconda3\\lib\\site-packages (from tensorboard<2.10,>=2.9->tensorflow>=2.6.0->tflite-model-maker) (2.0.3)\n",
      "Requirement already satisfied: google-auth-oauthlib<0.5,>=0.4.1 in c:\\users\\16588\\appdata\\roaming\\python\\python39\\site-packages (from tensorboard<2.10,>=2.9->tensorflow>=2.6.0->tflite-model-maker) (0.4.6)\n",
      "Requirement already satisfied: tensorboard-data-server<0.7.0,>=0.6.0 in c:\\users\\16588\\appdata\\roaming\\python\\python39\\site-packages (from tensorboard<2.10,>=2.9->tensorflow>=2.6.0->tflite-model-maker) (0.6.1)\n",
      "Requirement already satisfied: tensorboard-plugin-wit>=1.6.0 in c:\\users\\16588\\appdata\\roaming\\python\\python39\\site-packages (from tensorboard<2.10,>=2.9->tensorflow>=2.6.0->tflite-model-maker) (1.8.1)\n",
      "Requirement already satisfied: markdown>=2.6.8 in d:\\anaconda3\\lib\\site-packages (from tensorboard<2.10,>=2.9->tensorflow>=2.6.0->tflite-model-maker) (3.3.4)\n",
      "Requirement already satisfied: googleapis-common-protos<2,>=1.52.0 in c:\\users\\16588\\appdata\\roaming\\python\\python39\\site-packages (from tensorflow-metadata->tensorflow-datasets>=2.1.0->tflite-model-maker) (1.56.2)\n",
      "Requirement already satisfied: colorama in d:\\anaconda3\\lib\\site-packages (from tqdm->tensorflow-datasets>=2.1.0->tflite-model-maker) (0.4.4)\n",
      "Requirement already satisfied: pycparser in d:\\anaconda3\\lib\\site-packages (from CFFI>=1.0->sounddevice>=0.4.4->tflite-support>=0.3.1->tflite-model-maker) (2.21)\n",
      "Requirement already satisfied: grpcio-status<2.0dev,>=1.33.2 in c:\\users\\16588\\appdata\\roaming\\python\\python39\\site-packages (from google-api-core!=2.0.*,!=2.1.*,!=2.2.*,!=2.3.0,<3.0.0dev,>=1.31.5->google-api-python-client>=1.6.7->tf-models-official==2.3.0->tflite-model-maker) (1.46.3)\n",
      "Requirement already satisfied: pyasn1-modules>=0.2.1 in d:\\anaconda3\\lib\\site-packages (from google-auth<3.0.0dev,>=1.16.0->google-api-python-client>=1.6.7->tf-models-official==2.3.0->tflite-model-maker) (0.2.8)\n",
      "Requirement already satisfied: rsa<5,>=3.1.4 in d:\\anaconda3\\lib\\site-packages (from google-auth<3.0.0dev,>=1.16.0->google-api-python-client>=1.6.7->tf-models-official==2.3.0->tflite-model-maker) (4.7.2)\n",
      "Requirement already satisfied: cachetools<5.0,>=2.0.0 in d:\\anaconda3\\lib\\site-packages (from google-auth<3.0.0dev,>=1.16.0->google-api-python-client>=1.6.7->tf-models-official==2.3.0->tflite-model-maker) (4.2.2)\n",
      "Requirement already satisfied: requests-oauthlib>=0.7.0 in c:\\users\\16588\\appdata\\roaming\\python\\python39\\site-packages (from google-auth-oauthlib<0.5,>=0.4.1->tensorboard<2.10,>=2.9->tensorflow>=2.6.0->tflite-model-maker) (1.3.1)\n",
      "Requirement already satisfied: google-crc32c<2.0dev,>=1.0 in d:\\anaconda3\\lib\\site-packages (from google-resumable-media<3.0dev,>=0.6.0->google-cloud-bigquery>=0.31.0->tf-models-official==2.3.0->tflite-model-maker) (1.1.2)\n",
      "Requirement already satisfied: text-unidecode>=1.3 in d:\\anaconda3\\lib\\site-packages (from python-slugify->kaggle>=1.3.9->tf-models-official==2.3.0->tflite-model-maker) (1.3)\n",
      "Requirement already satisfied: pyasn1<0.5.0,>=0.4.6 in d:\\anaconda3\\lib\\site-packages (from pyasn1-modules>=0.2.1->google-auth<3.0.0dev,>=1.16.0->google-api-python-client>=1.6.7->tf-models-official==2.3.0->tflite-model-maker) (0.4.8)\n",
      "Requirement already satisfied: oauthlib>=3.0.0 in c:\\users\\16588\\appdata\\roaming\\python\\python39\\site-packages (from requests-oauthlib>=0.7.0->google-auth-oauthlib<0.5,>=0.4.1->tensorboard<2.10,>=2.9->tensorflow>=2.6.0->tflite-model-maker) (3.2.0)\n"
     ]
    }
   ],
   "source": [
    "!pip install -i https://pypi.tuna.tsinghua.edu.cn/simple/ tflite-model-maker --user"
   ]
  },
  {
   "cell_type": "markdown",
   "id": "17b01637",
   "metadata": {},
   "source": [
    "这里pip之前添加\"!\"符号是告诉notebook把pip安装指令当做shell指令执行（实际上其实不加！也能执行）。安装的时候遇到`ERROR: Cannot uninstall 'llvmlite'.`的问题。首先卸载llvmlite包，这里利用Anaconda Navigator中Environments组件管理和卸载相关的Package。\n",
    "![1](https://raw.githubusercontent.com/November-0/Software-project-R-amp-D-practice/main/experiment5/images/1.png)\n",
    "解决之后，再次提示`conda-repo-cli 1.0.4`和`anaconda-project 0.10.1`没有安装。\n",
    "分别使用`pip install conda-repo-cli==1.0.4`和`pip install anaconda-project==0.10.1`安装相应的库。注意，由于Anaconda版本不同，安装tflite model maker的环境不同，需根据实际情况自行解决安装过程中遇到的问题。"
   ]
  },
  {
   "cell_type": "code",
   "execution_count": 2,
   "id": "6c0b3dc1",
   "metadata": {},
   "outputs": [
    {
     "name": "stdout",
     "output_type": "stream",
     "text": [
      "Defaulting to user installation because normal site-packages is not writeable\n",
      "Looking in indexes: https://pypi.tuna.tsinghua.edu.cn/simple/\n",
      "Requirement already satisfied: conda-repo-cli==1.0.4 in d:\\anaconda3\\lib\\site-packages (1.0.4)\n",
      "Requirement already satisfied: pytz in d:\\anaconda3\\lib\\site-packages (from conda-repo-cli==1.0.4) (2021.3)\n",
      "Requirement already satisfied: nbformat>=4.4.0 in d:\\anaconda3\\lib\\site-packages (from conda-repo-cli==1.0.4) (5.3.0)\n",
      "Requirement already satisfied: PyYAML>=3.12 in d:\\anaconda3\\lib\\site-packages (from conda-repo-cli==1.0.4) (6.0)\n",
      "Requirement already satisfied: requests>=2.9.1 in d:\\anaconda3\\lib\\site-packages (from conda-repo-cli==1.0.4) (2.27.1)\n",
      "Requirement already satisfied: six in d:\\anaconda3\\lib\\site-packages (from conda-repo-cli==1.0.4) (1.16.0)\n",
      "Requirement already satisfied: clyent>=1.2.0 in d:\\anaconda3\\lib\\site-packages (from conda-repo-cli==1.0.4) (1.2.2)\n",
      "Requirement already satisfied: pathlib in c:\\users\\16588\\appdata\\roaming\\python\\python39\\site-packages (from conda-repo-cli==1.0.4) (1.0.1)\n",
      "Requirement already satisfied: python-dateutil>=2.6.1 in d:\\anaconda3\\lib\\site-packages (from conda-repo-cli==1.0.4) (2.8.2)\n",
      "Requirement already satisfied: setuptools in d:\\anaconda3\\lib\\site-packages (from conda-repo-cli==1.0.4) (61.2.0)\n",
      "Requirement already satisfied: jsonschema>=2.6 in d:\\anaconda3\\lib\\site-packages (from nbformat>=4.4.0->conda-repo-cli==1.0.4) (4.4.0)\n",
      "Requirement already satisfied: fastjsonschema in d:\\anaconda3\\lib\\site-packages (from nbformat>=4.4.0->conda-repo-cli==1.0.4) (2.15.1)\n",
      "Requirement already satisfied: jupyter-core in d:\\anaconda3\\lib\\site-packages (from nbformat>=4.4.0->conda-repo-cli==1.0.4) (4.9.2)\n",
      "Requirement already satisfied: traitlets>=4.1 in d:\\anaconda3\\lib\\site-packages (from nbformat>=4.4.0->conda-repo-cli==1.0.4) (5.1.1)\n",
      "Requirement already satisfied: idna<4,>=2.5 in d:\\anaconda3\\lib\\site-packages (from requests>=2.9.1->conda-repo-cli==1.0.4) (3.3)\n",
      "Requirement already satisfied: certifi>=2017.4.17 in d:\\anaconda3\\lib\\site-packages (from requests>=2.9.1->conda-repo-cli==1.0.4) (2021.10.8)\n",
      "Requirement already satisfied: charset-normalizer~=2.0.0 in d:\\anaconda3\\lib\\site-packages (from requests>=2.9.1->conda-repo-cli==1.0.4) (2.0.4)\n",
      "Requirement already satisfied: urllib3<1.27,>=1.21.1 in c:\\users\\16588\\appdata\\roaming\\python\\python39\\site-packages (from requests>=2.9.1->conda-repo-cli==1.0.4) (1.25.11)\n",
      "Requirement already satisfied: pyrsistent!=0.17.0,!=0.17.1,!=0.17.2,>=0.14.0 in d:\\anaconda3\\lib\\site-packages (from jsonschema>=2.6->nbformat>=4.4.0->conda-repo-cli==1.0.4) (0.18.0)\n",
      "Requirement already satisfied: attrs>=17.4.0 in d:\\anaconda3\\lib\\site-packages (from jsonschema>=2.6->nbformat>=4.4.0->conda-repo-cli==1.0.4) (21.4.0)\n",
      "Requirement already satisfied: pywin32>=1.0 in d:\\anaconda3\\lib\\site-packages (from jupyter-core->nbformat>=4.4.0->conda-repo-cli==1.0.4) (302)\n"
     ]
    }
   ],
   "source": [
    "!pip install -i https://pypi.tuna.tsinghua.edu.cn/simple/ conda-repo-cli==1.0.4"
   ]
  },
  {
   "cell_type": "code",
   "execution_count": 3,
   "id": "7abd6e9a",
   "metadata": {},
   "outputs": [
    {
     "name": "stdout",
     "output_type": "stream",
     "text": [
      "Defaulting to user installation because normal site-packages is not writeable\n",
      "Looking in indexes: http://pypi.douban.com/simple/\n",
      "Requirement already satisfied: conda-repo-cli==1.0.4 in d:\\anaconda3\\lib\\site-packages (1.0.4)\n",
      "Requirement already satisfied: PyYAML>=3.12 in d:\\anaconda3\\lib\\site-packages (from conda-repo-cli==1.0.4) (6.0)\n",
      "Requirement already satisfied: requests>=2.9.1 in d:\\anaconda3\\lib\\site-packages (from conda-repo-cli==1.0.4) (2.27.1)\n",
      "Requirement already satisfied: pathlib in c:\\users\\16588\\appdata\\roaming\\python\\python39\\site-packages (from conda-repo-cli==1.0.4) (1.0.1)\n",
      "Requirement already satisfied: clyent>=1.2.0 in d:\\anaconda3\\lib\\site-packages (from conda-repo-cli==1.0.4) (1.2.2)\n",
      "Requirement already satisfied: pytz in d:\\anaconda3\\lib\\site-packages (from conda-repo-cli==1.0.4) (2021.3)\n",
      "Requirement already satisfied: nbformat>=4.4.0 in d:\\anaconda3\\lib\\site-packages (from conda-repo-cli==1.0.4) (5.3.0)\n",
      "Requirement already satisfied: setuptools in d:\\anaconda3\\lib\\site-packages (from conda-repo-cli==1.0.4) (61.2.0)\n",
      "Requirement already satisfied: python-dateutil>=2.6.1 in d:\\anaconda3\\lib\\site-packages (from conda-repo-cli==1.0.4) (2.8.2)\n",
      "Requirement already satisfied: six in d:\\anaconda3\\lib\\site-packages (from conda-repo-cli==1.0.4) (1.16.0)\n",
      "Requirement already satisfied: traitlets>=4.1 in d:\\anaconda3\\lib\\site-packages (from nbformat>=4.4.0->conda-repo-cli==1.0.4) (5.1.1)\n",
      "Requirement already satisfied: jupyter-core in d:\\anaconda3\\lib\\site-packages (from nbformat>=4.4.0->conda-repo-cli==1.0.4) (4.9.2)\n",
      "Requirement already satisfied: jsonschema>=2.6 in d:\\anaconda3\\lib\\site-packages (from nbformat>=4.4.0->conda-repo-cli==1.0.4) (4.4.0)\n",
      "Requirement already satisfied: fastjsonschema in d:\\anaconda3\\lib\\site-packages (from nbformat>=4.4.0->conda-repo-cli==1.0.4) (2.15.1)\n",
      "Requirement already satisfied: idna<4,>=2.5 in d:\\anaconda3\\lib\\site-packages (from requests>=2.9.1->conda-repo-cli==1.0.4) (3.3)\n",
      "Requirement already satisfied: certifi>=2017.4.17 in d:\\anaconda3\\lib\\site-packages (from requests>=2.9.1->conda-repo-cli==1.0.4) (2021.10.8)\n",
      "Requirement already satisfied: charset-normalizer~=2.0.0 in d:\\anaconda3\\lib\\site-packages (from requests>=2.9.1->conda-repo-cli==1.0.4) (2.0.4)\n",
      "Requirement already satisfied: urllib3<1.27,>=1.21.1 in c:\\users\\16588\\appdata\\roaming\\python\\python39\\site-packages (from requests>=2.9.1->conda-repo-cli==1.0.4) (1.25.11)\n",
      "Requirement already satisfied: pyrsistent!=0.17.0,!=0.17.1,!=0.17.2,>=0.14.0 in d:\\anaconda3\\lib\\site-packages (from jsonschema>=2.6->nbformat>=4.4.0->conda-repo-cli==1.0.4) (0.18.0)\n",
      "Requirement already satisfied: attrs>=17.4.0 in d:\\anaconda3\\lib\\site-packages (from jsonschema>=2.6->nbformat>=4.4.0->conda-repo-cli==1.0.4) (21.4.0)\n",
      "Requirement already satisfied: pywin32>=1.0 in d:\\anaconda3\\lib\\site-packages (from jupyter-core->nbformat>=4.4.0->conda-repo-cli==1.0.4) (302)\n"
     ]
    }
   ],
   "source": [
    "!pip install conda-repo-cli==1.0.4 -i http://pypi.douban.com/simple/ --trusted-host pypi.douban.com"
   ]
  },
  {
   "cell_type": "markdown",
   "id": "65b4f853",
   "metadata": {},
   "source": [
    "接下来，导入相关的库。"
   ]
  },
  {
   "cell_type": "code",
   "execution_count": 4,
   "id": "21fe443b",
   "metadata": {},
   "outputs": [],
   "source": [
    "import os\n",
    "\n",
    "import numpy as np\n",
    "\n",
    "import tensorflow as tf\n",
    "assert tf.__version__.startswith('2')\n",
    "\n",
    "from tflite_model_maker import model_spec\n",
    "from tflite_model_maker import image_classifier\n",
    "from tflite_model_maker.config import ExportFormat\n",
    "from tflite_model_maker.config import QuantizationConfig\n",
    "from tflite_model_maker.image_classifier import DataLoader\n",
    "\n",
    "import matplotlib.pyplot as plt\n"
   ]
  },
  {
   "cell_type": "markdown",
   "id": "e41e1728",
   "metadata": {},
   "source": [
    "## 模型训练\n",
    "### 获取数据\n",
    "先从较小的数据集开始训练，当然越多的数据，模型精度更高。"
   ]
  },
  {
   "cell_type": "code",
   "execution_count": 5,
   "id": "a9774d88",
   "metadata": {},
   "outputs": [
    {
     "name": "stdout",
     "output_type": "stream",
     "text": [
      "C:\\Users\\16588\\.keras\\datasets\\flower_photos\n"
     ]
    }
   ],
   "source": [
    "image_path = tf.keras.utils.get_file(\n",
    "      'flower_photos.tgz',\n",
    "      'https://storage.googleapis.com/download.tensorflow.org/example_images/flower_photos.tgz',\n",
    "      extract=True)\n",
    "image_path = os.path.join(os.path.dirname(image_path), 'flower_photos')\n",
    "print(image_path)"
   ]
  },
  {
   "cell_type": "markdown",
   "id": "ed32e99e",
   "metadata": {},
   "source": [
    "这里从`storage.googleapis.com`中下载了本实验所需要的数据集。`image_path`可以定制，默认是在用户目录的`.keras\\datasets`中。\n",
    "\n",
    "### 运行示例\n",
    "一共需4步完成。\n",
    "第一步：加载数据集，并将数据集分为训练数据和测试数据。"
   ]
  },
  {
   "cell_type": "code",
   "execution_count": 6,
   "id": "0b236598",
   "metadata": {},
   "outputs": [
    {
     "name": "stdout",
     "output_type": "stream",
     "text": [
      "INFO:tensorflow:Load image with size: 3670, num_label: 5, labels: daisy, dandelion, roses, sunflowers, tulips.\n"
     ]
    }
   ],
   "source": [
    "data = DataLoader.from_folder(image_path)\n",
    "train_data, test_data = data.split(0.9)"
   ]
  },
  {
   "cell_type": "markdown",
   "id": "31b91b51",
   "metadata": {},
   "source": [
    "第二步：训练Tensorflow模型"
   ]
  },
  {
   "cell_type": "code",
   "execution_count": 7,
   "id": "bdea5083",
   "metadata": {},
   "outputs": [
    {
     "name": "stdout",
     "output_type": "stream",
     "text": [
      "INFO:tensorflow:Retraining the models...\n",
      "Model: \"sequential\"\n",
      "_________________________________________________________________\n",
      " Layer (type)                Output Shape              Param #   \n",
      "=================================================================\n",
      " hub_keras_layer_v1v2 (HubKe  (None, 1280)             3413024   \n",
      " rasLayerV1V2)                                                   \n",
      "                                                                 \n",
      " dropout (Dropout)           (None, 1280)              0         \n",
      "                                                                 \n",
      " dense (Dense)               (None, 5)                 6405      \n",
      "                                                                 \n",
      "=================================================================\n",
      "Total params: 3,419,429\n",
      "Trainable params: 6,405\n",
      "Non-trainable params: 3,413,024\n",
      "_________________________________________________________________\n",
      "None\n",
      "Epoch 1/5\n"
     ]
    },
    {
     "name": "stderr",
     "output_type": "stream",
     "text": [
      "C:\\Users\\16588\\AppData\\Roaming\\Python\\Python39\\site-packages\\keras\\optimizers\\optimizer_v2\\gradient_descent.py:108: UserWarning: The `lr` argument is deprecated, use `learning_rate` instead.\n",
      "  super(SGD, self).__init__(name, **kwargs)\n"
     ]
    },
    {
     "name": "stdout",
     "output_type": "stream",
     "text": [
      "103/103 [==============================] - 123s 1s/step - loss: 0.8779 - accuracy: 0.7576\n",
      "Epoch 2/5\n",
      "103/103 [==============================] - 127s 1s/step - loss: 0.6552 - accuracy: 0.8999\n",
      "Epoch 3/5\n",
      "103/103 [==============================] - 129s 1s/step - loss: 0.6262 - accuracy: 0.9138\n",
      "Epoch 4/5\n",
      "103/103 [==============================] - 160s 2s/step - loss: 0.6032 - accuracy: 0.9226\n",
      "Epoch 5/5\n",
      "103/103 [==============================] - 157s 2s/step - loss: 0.5923 - accuracy: 0.9329\n"
     ]
    }
   ],
   "source": [
    "# 模型下载到本地，推荐\n",
    "inception_v3_spec = image_classifier.ModelSpec(uri='D:\\juyter\\efficientnet_lite0_feature-vector_2')\n",
    "\n",
    "# 使用在线模型，推荐\n",
    "# inception_v3_spec = image_classifier.ModelSpec(uri='https://storage.googleapis.com/tfhub-modules/tensorflow/efficientnet/lite0/feature-vector/2.tar.gz')\n",
    "\n",
    "inception_v3_spec.input_image_shape = [240, 240]\n",
    "model = image_classifier.create(train_data, model_spec=inception_v3_spec)"
   ]
  },
  {
   "cell_type": "markdown",
   "id": "6c847b30",
   "metadata": {},
   "source": [
    "第三步：评估模型"
   ]
  },
  {
   "cell_type": "code",
   "execution_count": 8,
   "id": "4dba5fbf",
   "metadata": {},
   "outputs": [
    {
     "name": "stdout",
     "output_type": "stream",
     "text": [
      "12/12 [==============================] - 22s 1s/step - loss: 0.6336 - accuracy: 0.9019\n"
     ]
    }
   ],
   "source": [
    "loss, accuracy = model.evaluate(test_data)"
   ]
  },
  {
   "cell_type": "markdown",
   "id": "5f6da25f",
   "metadata": {},
   "source": [
    "第四步，导出Tensorflow Lite模型"
   ]
  },
  {
   "cell_type": "code",
   "execution_count": 9,
   "id": "a15f7dae",
   "metadata": {},
   "outputs": [
    {
     "name": "stdout",
     "output_type": "stream",
     "text": [
      "INFO:tensorflow:Assets written to: C:\\Users\\16588\\AppData\\Local\\Temp\\tmptk9ryh2i\\assets\n"
     ]
    },
    {
     "name": "stderr",
     "output_type": "stream",
     "text": [
      "C:\\Users\\16588\\AppData\\Roaming\\Python\\Python39\\site-packages\\tensorflow\\lite\\python\\convert.py:766: UserWarning: Statistics for quantized inputs were expected, but not specified; continuing anyway.\n",
      "  warnings.warn(\"Statistics for quantized inputs were expected, but not \"\n"
     ]
    },
    {
     "name": "stdout",
     "output_type": "stream",
     "text": [
      "INFO:tensorflow:Label file is inside the TFLite model with metadata.\n"
     ]
    },
    {
     "name": "stderr",
     "output_type": "stream",
     "text": [
      "INFO:tensorflow:Label file is inside the TFLite model with metadata.\n"
     ]
    },
    {
     "name": "stdout",
     "output_type": "stream",
     "text": [
      "INFO:tensorflow:Saving labels in C:\\Users\\16588\\AppData\\Local\\Temp\\tmpynjd4p6c\\labels.txt\n"
     ]
    },
    {
     "name": "stderr",
     "output_type": "stream",
     "text": [
      "INFO:tensorflow:Saving labels in C:\\Users\\16588\\AppData\\Local\\Temp\\tmpynjd4p6c\\labels.txt\n"
     ]
    },
    {
     "name": "stdout",
     "output_type": "stream",
     "text": [
      "INFO:tensorflow:TensorFlow Lite model exported successfully: .\\model.tflite\n"
     ]
    },
    {
     "name": "stderr",
     "output_type": "stream",
     "text": [
      "INFO:tensorflow:TensorFlow Lite model exported successfully: .\\model.tflite\n"
     ]
    }
   ],
   "source": [
    "model.export(export_dir='.')"
   ]
  },
  {
   "cell_type": "markdown",
   "id": "83b44560",
   "metadata": {},
   "source": [
    "这里导出的Tensorflow Lite模型包含了元数据(metadata),其能够提供标准的模型描述。导出的模型存放在Jupyter Notebook当前的工作目录中。\n",
    "![2](https://raw.githubusercontent.com/November-0/Software-project-R-amp-D-practice/main/experiment5/images/2.png)"
   ]
  }
 ],
 "metadata": {
  "kernelspec": {
   "display_name": "Python 3 (ipykernel)",
   "language": "python",
   "name": "python3"
  },
  "language_info": {
   "codemirror_mode": {
    "name": "ipython",
    "version": 3
   },
   "file_extension": ".py",
   "mimetype": "text/x-python",
   "name": "python",
   "nbconvert_exporter": "python",
   "pygments_lexer": "ipython3",
   "version": "3.9.12"
  }
 },
 "nbformat": 4,
 "nbformat_minor": 5
}
