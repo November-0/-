{
 "cells": [
  {
   "cell_type": "markdown",
   "id": "accc2c33",
   "metadata": {},
   "source": [
    "# 实验1_安装相关软件\n",
    "\n",
    "## 1 安 装 Android Studio 4.1 之 上 的 版 本\n",
    "1. 打开Android官网，找到Android Studio，选择下载 \\\n",
    "![1.1](https://raw.githubusercontent.com/November-0/Software-project-R-amp-D-practice/main/experiment1/images/1.1.png)\n",
    "2. 双击程序，进行安装 \\\n",
    "![1.2](https://raw.githubusercontent.com/November-0/Software-project-R-amp-D-practice/main/experiment1/images/1.2.png)\n",
    "3. 选择next \\\n",
    "![1.3](https://raw.githubusercontent.com/November-0/Software-project-R-amp-D-practice/main/experiment1/images/1.3.png)\n",
    "4. 只需全部打勾之后点击next（最新版Android Studio在这一步没有sdk，需要稍后再进行安装）\\\n",
    "![1.4](https://raw.githubusercontent.com/November-0/Software-project-R-amp-D-practice/main/experiment1/images/1.4.png)\n",
    "5. 选择自己适合的安装路径\\\n",
    "![1.5](https://raw.githubusercontent.com/November-0/Software-project-R-amp-D-practice/main/experiment1/images/1.5.png)\n",
    "6. 点击install，等待安装\\\n",
    "![1.6](https://raw.githubusercontent.com/November-0/Software-project-R-amp-D-practice/main/experiment1/images/1.6.png)\n",
    "7. 进度完成，点击next\\\n",
    "![1.7](https://raw.githubusercontent.com/November-0/Software-project-R-amp-D-practice/main/experiment1/images/1.7.png)\n",
    "8. 点击finish\\\n",
    "![1.8](https://raw.githubusercontent.com/November-0/Software-project-R-amp-D-practice/main/experiment1/images/1.8.png)\n",
    "9. 选择第二个，点击ok\\\n",
    "![1.9](https://raw.githubusercontent.com/November-0/Software-project-R-amp-D-practice/main/experiment1/images/1.9.png)\n",
    "10. 点击cancel\\\n",
    "![1.10](https://raw.githubusercontent.com/November-0/Software-project-R-amp-D-practice/main/experiment1/images/1.10.png)\n",
    "11. 选择don’t send\\\n",
    "![1.11](https://raw.githubusercontent.com/November-0/Software-project-R-amp-D-practice/main/experiment1/images/1.11.png)\n",
    "12. 直接next\\\n",
    "![1.12](https://raw.githubusercontent.com/November-0/Software-project-R-amp-D-practice/main/experiment1/images/1.12.png)\n",
    "13. 选择第二个，进入个性化设置\\\n",
    "![1.13](https://raw.githubusercontent.com/November-0/Software-project-R-amp-D-practice/main/experiment1/images/1.13.png)\n",
    "14. 点击next\\\n",
    "![1.14](https://raw.githubusercontent.com/November-0/Software-project-R-amp-D-practice/main/experiment1/images/1.14.png)\n",
    "15. 选择自己喜欢的模式（颜色）\\\n",
    "![1.15](https://raw.githubusercontent.com/November-0/Software-project-R-amp-D-practice/main/experiment1/images/1.15.png)\n",
    "16. 路径选择，路径中文件名不能有空格，否则出现警告，无法进行下一步，点击next\\\n",
    "![1.16](https://raw.githubusercontent.com/November-0/Software-project-R-amp-D-practice/main/experiment1/images/1.16.png)\n",
    "17. next\\\n",
    "![1.17](https://raw.githubusercontent.com/November-0/Software-project-R-amp-D-practice/main/experiment1/images/1.17.png)\n",
    "18. 全部accept，finish，等待安装，最后finish\\\n",
    "![1.18](https://raw.githubusercontent.com/November-0/Software-project-R-amp-D-practice/main/experiment1/images/1.18.png)\n",
    "19. 点击第一个创建第一个新项目\\\n",
    "![1.19](https://raw.githubusercontent.com/November-0/Software-project-R-amp-D-practice/main/experiment1/images/1.19.png)\n",
    "20. 选择一个喜欢的样式，next（建议第一次使用选择最简单的布局，如：empty activity）\\\n",
    "![1.20](https://raw.githubusercontent.com/November-0/Software-project-R-amp-D-practice/main/experiment1/images/1.20.png)\n",
    "21. 工程设置，finish\\\n",
    "![1.21](https://raw.githubusercontent.com/November-0/Software-project-R-amp-D-practice/main/experiment1/images/1.21.png)\n",
    "22. 首次构建下载比较慢，点击运行\\\n",
    "![1.22](https://raw.githubusercontent.com/November-0/Software-project-R-amp-D-practice/main/experiment1/images/1.22.png)\n",
    "\n",
    "## 2 安装Jupyter Notebook和相关的Python环境\n",
    "1. 前往官方下载页面下载。有两个版本可供选择：Python 3.6 和 Python 2.7，选择版之后根据自己操作系统的情况点击“64-Bit Graphical Installer”或“32-Bit Graphical Installer”进行下载。\\\n",
    "![2.1](https://raw.githubusercontent.com/November-0/Software-project-R-amp-D-practice/main/experiment1/images/2.1.png)\n",
    "2. 完成下载之后，双击下载文件，启动安装程序。\\\n",
    "注意：\\\n",
    "① 如果在安装过程中遇到任何问题，那么暂时地关闭杀毒软件，并在安装程序完成之后再打开。\\\n",
    "② 如果在安装时选择了“为所有用户安装”，则卸载Anaconda然后重新安装，只为“我这个用户”安装。\\\n",
    "![2.2](https://raw.githubusercontent.com/November-0/Software-project-R-amp-D-practice/main/experiment1/images/2.2.png)\n",
    "3. 阅读许可证协议条款，然后勾选“I Agree”并进行下一步。\\\n",
    "![2.3](https://raw.githubusercontent.com/November-0/Software-project-R-amp-D-practice/main/experiment1/images/2.3.png)\n",
    "4. 除非是以管理员身份为所有用户安装，否则仅勾选“Just Me”并点击“Next”。\\\n",
    "![2.4](https://raw.githubusercontent.com/November-0/Software-project-R-amp-D-practice/main/experiment1/images/2.4.png)\n",
    "5. 在“Choose Install Location”界面中选择安装Anaconda的目标路径，然后点击“Next”。\\\n",
    "注意：\\\n",
    "① 目标路径中不能含有空格，同时不能是“unicode”编码。\\\n",
    "② 除非被要求以管理员权限安装，否则不要以管理员身份安装。\\\n",
    "![2.5](https://raw.githubusercontent.com/November-0/Software-project-R-amp-D-practice/main/experiment1/images/2.5.png)\n",
    "6. 在“Advanced Installation Options”中不要勾选“Add Anaconda to my PATH environment variable.”（“添加Anaconda至我的环境变量。”）。因为如果勾选，则将会影响其他程序的使用。如果使用Anaconda，则通过打开Anaconda Navigator或者在开始菜单中的“Anaconda Prompt”（类似macOS中的“终端”）中进行使用。\\\n",
    "除非你打算使用多个版本的Anaconda或者多个版本的Python，否则便勾选“Register Anaconda as my default Python 3.6”。\\\n",
    "然后点击“Install”开始安装。如果想要查看安装细节，则可以点击“Show Details”。\\\n",
    "![2.6](https://raw.githubusercontent.com/November-0/Software-project-R-amp-D-practice/main/experiment1/images/2.6.png)\n",
    "7. 点击“Next”。\\\n",
    "![2.7](https://raw.githubusercontent.com/November-0/Software-project-R-amp-D-practice/main/experiment1/images/2.7.png)\n",
    "8. 进入“Thanks for installing Anaconda!”界面则意味着安装成功，点击“Finish”完成安装。\\\n",
    "注意：如果你不想了解“Anaconda云”和“Anaconda支持”，则可以不勾选“Learn more about Anaconda Cloud”和“Learn more about Anaconda Support”。\\\n",
    "9. 验证安装结果。可选以下任意方法：\\\n",
    "① “开始 → Anaconda3（64-bit）→ Anaconda Navigator”，若可以成功启动Anaconda Navigator则说明安装成功。\\\n",
    "![2.8](https://raw.githubusercontent.com/November-0/Software-project-R-amp-D-practice/main/experiment1/images/2.8.png)\n",
    "![2.9](https://raw.githubusercontent.com/November-0/Software-project-R-amp-D-practice/main/experiment1/images/2.9.png)\n",
    "② “开始 → Anaconda3（64-bit）→ 右键点击Anaconda Prompt → 以管理员身份运行”，在Anaconda Prompt中输入 conda list ，可以查看已经安装的包名和版本号。若结果可以正常显示，则说明安装成功。\\\n",
    "![2.10](https://raw.githubusercontent.com/November-0/Software-project-R-amp-D-practice/main/experiment1/images/2.10.png)\n",
    "\n",
    "## 3 在win10下修改jupyter notebook的默认工作目录\n",
    "\n",
    "1. 查看jupyter notebook的配置文件在哪\\\n",
    "快捷键 win+r 输入cmd 回车，打开cmd窗口，在cmd中输入以下命令。\\\n",
    "```\n",
    "jupyter notebook --generate-config\n",
    "```\n",
    "![3.1](https://raw.githubusercontent.com/November-0/Software-project-R-amp-D-practice/main/experiment1/images/3.1.png)\n",
    "2. 在系统中按图中路径找到此配置文件，打开（这里选择的是，右键，记事本打开方式）\\\n",
    "![3.2](https://raw.githubusercontent.com/November-0/Software-project-R-amp-D-practice/main/experiment1/images/3.2.png)\n",
    "3. 找到它的工作路径，即在配置文件中找到此语句c.NotebookApp.notebook_dir\\\n",
    "可以直接，ctrl+f 用搜索框定位\\\n",
    "![3.3](https://raw.githubusercontent.com/November-0/Software-project-R-amp-D-practice/main/experiment1/images/3.3.png)\n",
    "4. 更改工作目录\\\n",
    "注：#为注释，需要删除\\\n",
    "![3.4](https://raw.githubusercontent.com/November-0/Software-project-R-amp-D-practice/main/experiment1/images/3.4.png)\n",
    "更改完后，保存，重启juyter notebook即可\\\n",
    "![3.6](https://raw.githubusercontent.com/November-0/Software-project-R-amp-D-practice/main/experiment1/images/3.6.png)\n",
    "5. 验证\\\n",
    "重启jupyter notebook，新建一个文件，输入以下命令，查看当前文件保存的工作路径\\\n",
    "```\n",
    "import os\n",
    "print(os.path.abspath('.'))\n",
    "```\n",
    "![3.5](https://raw.githubusercontent.com/November-0/Software-project-R-amp-D-practice/main/experiment1/images/3.5.png)\n"
   ]
  },
  {
   "cell_type": "markdown",
   "id": "2bcd345b",
   "metadata": {},
   "source": [
    "![](https://image.baidu.com/search/detail?ct=503316480&z=0&ipn=d&word=%E5%9B%BE%E7%89%87&step_word=&hs=0&pn=0&spn=0&di=7077204560107798529&pi=0&rn=1&tn=baiduimagedetail&is=0%2C0&istype=0&ie=utf-8&oe=utf-8&in=&cl=2&lm=-1&st=undefined&cs=3427821080%2C1838386749&os=1975264135%2C4125829973&simid=90867845%2C796057404&adpicid=0&lpn=0&ln=1666&fr=&fmq=1650271335178_R&fm=&ic=undefined&s=undefined&hd=undefined&latest=undefined&copyright=undefined&se=&sme=&tab=0&width=undefined&height=undefined&face=undefined&ist=&jit=&cg=&bdtype=0&oriquery=&objurl=https%3A%2F%2Fgimg2.baidu.com%2Fimage_search%2Fsrc%3Dhttp%3A%2F%2Fimg.jj20.com%2Fup%2Fallimg%2Ftp01%2F1ZZQ20QJS6-0-lp.jpg%26refer%3Dhttp%3A%2F%2Fimg.jj20.com%26app%3D2002%26size%3Df9999%2C10000%26q%3Da80%26n%3D0%26g%3D0n%26fmt%3Dauto%3Fsec%3D1652863334%26t%3Dee98be1a51546d6d17212192495eaede&fromurl=ippr_z2C%24qAzdH3FAzdH3Fooo_z%26e3B33da_z%26e3Bv54AzdH3FprAzdH3F8a0nmc_z%26e3Bip4s&gsm=1&rpstart=0&rpnum=0&islist=&querylist=&nojc=undefined&dyTabStr=MCwzLDEsNiw0LDIsNSw3LDgsOQ%3D%3D)"
   ]
  },
  {
   "cell_type": "code",
   "execution_count": 1,
   "id": "90d3d5ce",
   "metadata": {},
   "outputs": [
    {
     "data": {
      "text/plain": [
       "'C:\\\\Users\\\\16588'"
      ]
     },
     "execution_count": 1,
     "metadata": {},
     "output_type": "execute_result"
    }
   ],
   "source": [
    "%pwd"
   ]
  },
  {
   "cell_type": "code",
   "execution_count": null,
   "id": "89c3174c",
   "metadata": {},
   "outputs": [],
   "source": []
  }
 ],
 "metadata": {
  "kernelspec": {
   "display_name": "Python 3 (ipykernel)",
   "language": "python",
   "name": "python3"
  },
  "language_info": {
   "codemirror_mode": {
    "name": "ipython",
    "version": 3
   },
   "file_extension": ".py",
   "mimetype": "text/x-python",
   "name": "python",
   "nbconvert_exporter": "python",
   "pygments_lexer": "ipython3",
   "version": "3.9.7"
  }
 },
 "nbformat": 4,
 "nbformat_minor": 5
}
